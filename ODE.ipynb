{
 "cells": [
  {
   "cell_type": "code",
   "execution_count": 355,
   "metadata": {},
   "outputs": [],
   "source": [
    "from keras.models import Sequential\n",
    "from keras.layers import Dense, Activation\n",
    "import numpy as np\n",
    "import keras\n",
    "from keras.models import *\n",
    "from keras.layers import *\n",
    "from keras import backend as K\n",
    "import tensorflow as tf\n",
    "from keras import losses\n",
    "import matplotlib.pyplot as plt\n",
    "import seaborn as sns"
   ]
  },
  {
   "cell_type": "code",
   "execution_count": 356,
   "metadata": {},
   "outputs": [],
   "source": [
    "x_test = np.arange(0.0,1.0,0.01)\n",
    "BC_test = np.zeros(100)"
   ]
  },
  {
   "cell_type": "code",
   "execution_count": 357,
   "metadata": {
    "scrolled": true
   },
   "outputs": [],
   "source": [
    "init = keras.initializers.RandomNormal(mean=0.0, stddev=0.05, seed=None)\n",
    "\n",
    "def grad( y, x , nameit):\n",
    "    return Lambda( lambda z: K.gradients( z[ 0 ], z[ 1 ] ), output_shape = [1], name = nameit)( [ y, x ] )\n",
    "\n",
    "def network( i ):\n",
    "    m = Dense(10000, activation='sigmoid', kernel_initializer=init)(i)\n",
    "    j = Dense(1, name=\"functionvalue\", activation='sigmoid',kernel_initializer=init)(m)\n",
    "    return j\n",
    "\n",
    "x = Input(shape=(1,))\n",
    "BC = Input(shape=(1,))\n",
    "\n",
    "# predicting network\n",
    "a = network(x)\n",
    "\n",
    "# create LHS\n",
    "b = grad( a, x , \"dudx1\")\n",
    "c = grad( b, x , \"dudx11\")\n",
    "LHS = Lambda(lambda x: x + 1.0) (c)\n",
    "\n",
    "# create final output neuron\n",
    "g = Multiply()([BC,a])\n",
    "h = Multiply()([BC,LHS])\n",
    "i = Add()([g,LHS])\n",
    "j = Subtract(name = \"Output\")([i,h])\n",
    "\n",
    "\n",
    "model = Model( inputs = [ x, BC], outputs = [a,LHS,j] )\n",
    "pre_ans = model.predict( [x_test, BC_test], steps = 1 )"
   ]
  },
  {
   "cell_type": "code",
   "execution_count": 364,
   "metadata": {},
   "outputs": [
    {
     "name": "stdout",
     "output_type": "stream",
     "text": [
      "__________________________________________________________________________________________________\n",
      "Layer (type)                    Output Shape         Param #     Connected to                     \n",
      "==================================================================================================\n",
      "input_96 (InputLayer)           (None, 1)            0                                            \n",
      "__________________________________________________________________________________________________\n",
      "dense_47 (Dense)                (None, 10000)        20000       input_96[0][0]                   \n",
      "__________________________________________________________________________________________________\n",
      "functionvalue (Dense)           (None, 1)            10001       dense_47[0][0]                   \n",
      "__________________________________________________________________________________________________\n",
      "dudx1 (Lambda)                  (None, 1)            0           functionvalue[0][0]              \n",
      "                                                                 input_96[0][0]                   \n",
      "__________________________________________________________________________________________________\n",
      "dudx11 (Lambda)                 (None, 1)            0           dudx1[0][0]                      \n",
      "                                                                 input_96[0][0]                   \n",
      "__________________________________________________________________________________________________\n",
      "input_97 (InputLayer)           (None, 1)            0                                            \n",
      "__________________________________________________________________________________________________\n",
      "lambda_29 (Lambda)              (None, 1)            0           dudx11[0][0]                     \n",
      "__________________________________________________________________________________________________\n",
      "multiply_71 (Multiply)          (None, 1)            0           input_97[0][0]                   \n",
      "                                                                 functionvalue[0][0]              \n",
      "__________________________________________________________________________________________________\n",
      "add_47 (Add)                    (None, 1)            0           multiply_71[0][0]                \n",
      "                                                                 lambda_29[0][0]                  \n",
      "__________________________________________________________________________________________________\n",
      "multiply_72 (Multiply)          (None, 1)            0           input_97[0][0]                   \n",
      "                                                                 lambda_29[0][0]                  \n",
      "__________________________________________________________________________________________________\n",
      "Output (Subtract)               (None, 1)            0           add_47[0][0]                     \n",
      "                                                                 multiply_72[0][0]                \n",
      "==================================================================================================\n",
      "Total params: 30,001\n",
      "Trainable params: 30,001\n",
      "Non-trainable params: 0\n",
      "__________________________________________________________________________________________________\n"
     ]
    }
   ],
   "source": [
    "model.summary()"
   ]
  },
  {
   "cell_type": "code",
   "execution_count": 358,
   "metadata": {
    "scrolled": true
   },
   "outputs": [
    {
     "data": {
      "text/plain": [
       "[<matplotlib.lines.Line2D at 0x2914a335438>]"
      ]
     },
     "execution_count": 358,
     "metadata": {},
     "output_type": "execute_result"
    },
    {
     "data": {
      "image/png": "[encoded data removed]",
      "text/plain": [
       "<Figure size 432x288 with 1 Axes>"
      ]
     },
     "metadata": {
      "needs_background": "light"
     },
     "output_type": "display_data"
    }
   ],
   "source": [
    "u = pre_ans[0]\n",
    "grad = pre_ans[1]\n",
    "\n",
    "from mpl_toolkits.mplot3d import axes3d\n",
    "import matplotlib.pyplot as plt\n",
    "\n",
    "plt.plot(u)"
   ]
  },
  {
   "cell_type": "code",
   "execution_count": 359,
   "metadata": {
    "scrolled": true
   },
   "outputs": [
    {
     "name": "stderr",
     "output_type": "stream",
     "text": [
      "C:\\Users\\Freek\\Anaconda3\\lib\\site-packages\\ipykernel_launcher.py:5: UserWarning: Output \"functionvalue\" missing from loss dictionary. We assume this was done on purpose, and we will not be expecting any data to be passed to \"functionvalue\" during training.\n",
      "  \"\"\"\n",
      "C:\\Users\\Freek\\Anaconda3\\lib\\site-packages\\ipykernel_launcher.py:5: UserWarning: Output \"lambda_29\" missing from loss dictionary. We assume this was done on purpose, and we will not be expecting any data to be passed to \"lambda_29\" during training.\n",
      "  \"\"\"\n"
     ]
    }
   ],
   "source": [
    "losses = {\n",
    "\t\"Output\": \"mean_squared_error\",\n",
    "}\n",
    "\n",
    "model.compile(loss=losses, optimizer=\"Adam\", metrics=['accuracy'])"
   ]
  },
  {
   "cell_type": "code",
   "execution_count": 360,
   "metadata": {
    "scrolled": true
   },
   "outputs": [
    {
     "name": "stdout",
     "output_type": "stream",
     "text": [
      "Epoch 1/5\n",
      "10000/10000 [==============================] - 4s 386us/step - loss: 0.5044 - Output_loss: 0.5044 - Output_acc: 0.4956\n",
      "Epoch 2/5\n",
      "10000/10000 [==============================] - 3s 257us/step - loss: 0.5000 - Output_loss: 0.5000 - Output_acc: 0.5000\n",
      "Epoch 3/5\n",
      "10000/10000 [==============================] - 3s 259us/step - loss: 0.5000 - Output_loss: 0.5000 - Output_acc: 0.5000\n",
      "Epoch 4/5\n",
      "10000/10000 [==============================] - 3s 260us/step - loss: 0.5000 - Output_loss: 0.5000 - Output_acc: 0.5000\n",
      "Epoch 5/5\n",
      "10000/10000 [==============================] - 3s 263us/step - loss: 0.5000 - Output_loss: 0.5000 - Output_acc: 0.5000\n"
     ]
    },
    {
     "data": {
      "text/plain": [
       "<keras.callbacks.History at 0x2914a3dbe80>"
      ]
     },
     "execution_count": 360,
     "metadata": {},
     "output_type": "execute_result"
    }
   ],
   "source": [
    "import math\n",
    "\n",
    "# create interior points and boundary points to train on.\n",
    "nexamples = 10000\n",
    "\n",
    "#hyperparameters:\n",
    "theta = 0.5 #theta proportion of interior points, (1-theta) proportion of boundary points.\n",
    "\n",
    "#interior:\n",
    "x_interior = np.random.random((math.floor(nexamples*theta), 1))\n",
    "BC_interior = np.zeros((math.floor(nexamples*theta),1), dtype=int)\n",
    "labels_interior = np.zeros((math.floor(nexamples*theta),1))\n",
    "\n",
    "#bc: on a line are just the extremeties\n",
    "x_bc = np.zeros((math.floor(nexamples*(1-theta)),1))\n",
    "labels_bc = np.ones((math.floor(nexamples*(1-theta)),1))\n",
    "BC_bc = np.ones((math.floor(nexamples*(1-theta)),1), dtype=int)\n",
    "\n",
    "#concatenate to one dataset:\n",
    "x=np.concatenate((x_interior, x_bc), axis=0)\n",
    "BC=np.concatenate((BC_interior, BC_bc), axis=0)\n",
    "labels=np.concatenate((labels_interior, labels_bc), axis=0)\n",
    "model.fit([x,BC],labels,epochs=5, batch_size=100, shuffle=True)"
   ]
  },
  {
   "cell_type": "code",
   "execution_count": 361,
   "metadata": {},
   "outputs": [
    {
     "data": {
      "text/plain": [
       "[<matplotlib.lines.Line2D at 0x2914b7af208>]"
      ]
     },
     "execution_count": 361,
     "metadata": {},
     "output_type": "execute_result"
    },
    {
     "data": {
      "image/png": "[encoded data removed]",
      "text/plain": [
       "<Figure size 432x288 with 1 Axes>"
      ]
     },
     "metadata": {
      "needs_background": "light"
     },
     "output_type": "display_data"
    }
   ],
   "source": [
    "post_ans = model.predict( [x_test, BC_test], steps = 1 )\n",
    "u = post_ans[0]\n",
    "grad = post_ans[1]\n",
    "\n",
    "plt.plot(grad)"
   ]
  },
  {
   "cell_type": "code",
   "execution_count": 363,
   "metadata": {},
   "outputs": [
    {
     "data": {
      "text/plain": [
       "array([[1.],\n",
       "       [1.],\n",
       "       [1.],\n",
       "       [1.],\n",
       "       [1.],\n",
       "       [1.],\n",
       "       [1.],\n",
       "       [1.],\n",
       "       [1.],\n",
       "       [1.],\n",
       "       [1.],\n",
       "       [1.],\n",
       "       [1.],\n",
       "       [1.],\n",
       "       [1.],\n",
       "       [1.],\n",
       "       [1.],\n",
       "       [1.],\n",
       "       [1.],\n",
       "       [1.],\n",
       "       [1.],\n",
       "       [1.],\n",
       "       [1.],\n",
       "       [1.],\n",
       "       [1.],\n",
       "       [1.],\n",
       "       [1.],\n",
       "       [1.],\n",
       "       [1.],\n",
       "       [1.],\n",
       "       [1.],\n",
       "       [1.],\n",
       "       [1.],\n",
       "       [1.],\n",
       "       [1.],\n",
       "       [1.],\n",
       "       [1.],\n",
       "       [1.],\n",
       "       [1.],\n",
       "       [1.],\n",
       "       [1.],\n",
       "       [1.],\n",
       "       [1.],\n",
       "       [1.],\n",
       "       [1.],\n",
       "       [1.],\n",
       "       [1.],\n",
       "       [1.],\n",
       "       [1.],\n",
       "       [1.],\n",
       "       [1.],\n",
       "       [1.],\n",
       "       [1.],\n",
       "       [1.],\n",
       "       [1.],\n",
       "       [1.],\n",
       "       [1.],\n",
       "       [1.],\n",
       "       [1.],\n",
       "       [1.],\n",
       "       [1.],\n",
       "       [1.],\n",
       "       [1.],\n",
       "       [1.],\n",
       "       [1.],\n",
       "       [1.],\n",
       "       [1.],\n",
       "       [1.],\n",
       "       [1.],\n",
       "       [1.],\n",
       "       [1.],\n",
       "       [1.],\n",
       "       [1.],\n",
       "       [1.],\n",
       "       [1.],\n",
       "       [1.],\n",
       "       [1.],\n",
       "       [1.],\n",
       "       [1.],\n",
       "       [1.],\n",
       "       [1.],\n",
       "       [1.],\n",
       "       [1.],\n",
       "       [1.],\n",
       "       [1.],\n",
       "       [1.],\n",
       "       [1.],\n",
       "       [1.],\n",
       "       [1.],\n",
       "       [1.],\n",
       "       [1.],\n",
       "       [1.],\n",
       "       [1.],\n",
       "       [1.],\n",
       "       [1.],\n",
       "       [1.],\n",
       "       [1.],\n",
       "       [1.],\n",
       "       [1.],\n",
       "       [1.]], dtype=float32)"
      ]
     },
     "execution_count": 363,
     "metadata": {},
     "output_type": "execute_result"
    }
   ],
   "source": [
    "u"
   ]
  },
  {
   "cell_type": "code",
   "execution_count": null,
   "metadata": {},
   "outputs": [],
   "source": []
  }
 ],
 "metadata": {
  "kernelspec": {
   "display_name": "Python 3",
   "language": "python",
   "name": "python3"
  },
  "language_info": {
   "codemirror_mode": {
    "name": "ipython",
    "version": 3
   },
   "file_extension": ".py",
   "mimetype": "text/x-python",
   "name": "python",
   "nbconvert_exporter": "python",
   "pygments_lexer": "ipython3",
   "version": "3.6.8"
  }
 },
 "nbformat": 4,
 "nbformat_minor": 2
}
